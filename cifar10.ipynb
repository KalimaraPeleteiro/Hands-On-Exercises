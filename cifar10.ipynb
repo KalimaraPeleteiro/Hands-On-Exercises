{
 "cells": [
  {
   "cell_type": "code",
   "execution_count": 1,
   "metadata": {},
   "outputs": [
    {
     "name": "stderr",
     "output_type": "stream",
     "text": [
      "2023-12-05 15:12:55.261195: I tensorflow/tsl/cuda/cudart_stub.cc:28] Could not find cuda drivers on your machine, GPU will not be used.\n",
      "2023-12-05 15:12:55.310444: I tensorflow/tsl/cuda/cudart_stub.cc:28] Could not find cuda drivers on your machine, GPU will not be used.\n",
      "2023-12-05 15:12:55.311019: I tensorflow/core/platform/cpu_feature_guard.cc:182] This TensorFlow binary is optimized to use available CPU instructions in performance-critical operations.\n",
      "To enable the following instructions: AVX2 FMA, in other operations, rebuild TensorFlow with the appropriate compiler flags.\n",
      "2023-12-05 15:12:56.191720: W tensorflow/compiler/tf2tensorrt/utils/py_utils.cc:38] TF-TRT Warning: Could not find TensorRT\n"
     ]
    }
   ],
   "source": [
    "from tensorflow import keras\n",
    "import matplotlib.pyplot as plt\n",
    "import tensorflow as tf\n",
    "import numpy as np"
   ]
  },
  {
   "cell_type": "markdown",
   "metadata": {},
   "source": [
    "### 1. Dataset"
   ]
  },
  {
   "cell_type": "code",
   "execution_count": 2,
   "metadata": {},
   "outputs": [],
   "source": [
    "cifar10 = keras.datasets.cifar10"
   ]
  },
  {
   "cell_type": "code",
   "execution_count": 3,
   "metadata": {},
   "outputs": [],
   "source": [
    "(train_images, train_labels), (test_images, test_labels) = cifar10.load_data()"
   ]
  },
  {
   "cell_type": "code",
   "execution_count": 4,
   "metadata": {},
   "outputs": [
    {
     "data": {
      "text/plain": [
       "(50000, 1)"
      ]
     },
     "execution_count": 4,
     "metadata": {},
     "output_type": "execute_result"
    }
   ],
   "source": [
    "train_labels.shape"
   ]
  },
  {
   "cell_type": "code",
   "execution_count": 5,
   "metadata": {},
   "outputs": [
    {
     "data": {
      "text/plain": [
       "(10000, 1)"
      ]
     },
     "execution_count": 5,
     "metadata": {},
     "output_type": "execute_result"
    }
   ],
   "source": [
    "test_labels.shape"
   ]
  },
  {
   "cell_type": "code",
   "execution_count": 6,
   "metadata": {},
   "outputs": [
    {
     "data": {
      "text/plain": [
       "(32, 32, 3)"
      ]
     },
     "execution_count": 6,
     "metadata": {},
     "output_type": "execute_result"
    }
   ],
   "source": [
    "train_images[0].shape"
   ]
  },
  {
   "cell_type": "code",
   "execution_count": 7,
   "metadata": {},
   "outputs": [
    {
     "data": {
      "text/plain": [
       "<matplotlib.image.AxesImage at 0x7f9ad53e37f0>"
      ]
     },
     "execution_count": 7,
     "metadata": {},
     "output_type": "execute_result"
    },
    {
     "data": {
      "image/png": "[encoded data removed]",
      "text/plain": [
       "<Figure size 432x288 with 1 Axes>"
      ]
     },
     "metadata": {
      "needs_background": "light"
     },
     "output_type": "display_data"
    }
   ],
   "source": [
    "plt.imshow(train_images[0])"
   ]
  },
  {
   "cell_type": "markdown",
   "metadata": {},
   "source": [
    "#### 1.1 Tratamento\n",
    "\n",
    "Devido a estrutura dos dados, será necessário normalizar a imagem."
   ]
  },
  {
   "cell_type": "code",
   "execution_count": 8,
   "metadata": {},
   "outputs": [],
   "source": [
    "train_images = train_images / 255.0\n",
    "test_images = test_images / 255.0"
   ]
  },
  {
   "cell_type": "code",
   "execution_count": 9,
   "metadata": {},
   "outputs": [],
   "source": [
    "np.random.seed(312)\n",
    "tf.random.set_seed(312)"
   ]
  },
  {
   "cell_type": "markdown",
   "metadata": {},
   "source": [
    "### 2. Treinamento\n",
    "Conforme o exercício pede, vamos começar com 20 camadas de 100 neurônios e ELU com Inicialização He."
   ]
  },
  {
   "cell_type": "code",
   "execution_count": 14,
   "metadata": {},
   "outputs": [],
   "source": [
    "modelo = keras.Sequential()\n",
    "modelo.add(keras.layers.Flatten(input_shape = (32, 32, 3)))\n",
    "\n",
    "for _ in range(20):\n",
    "    modelo.add(keras.layers.Dense(100, activation=\"elu\", kernel_initializer=\"he_normal\"))\n",
    "\n",
    "modelo.add(keras.layers.Dense(10, activation=\"softmax\"))"
   ]
  },
  {
   "cell_type": "code",
   "execution_count": 15,
   "metadata": {},
   "outputs": [],
   "source": [
    "early_stopping = keras.callbacks.EarlyStopping(monitor='val_loss', patience=5, restore_best_weights=True)"
   ]
  },
  {
   "cell_type": "code",
   "execution_count": 16,
   "metadata": {},
   "outputs": [],
   "source": [
    "modelo.compile(optimizer='nadam', loss='sparse_categorical_crossentropy', metrics=['accuracy'])"
   ]
  },
  {
   "cell_type": "code",
   "execution_count": 17,
   "metadata": {},
   "outputs": [
    {
     "name": "stdout",
     "output_type": "stream",
     "text": [
      "Epoch 1/100\n"
     ]
    },
    {
     "name": "stderr",
     "output_type": "stream",
     "text": [
      "2023-12-05 15:13:13.349392: W tensorflow/tsl/framework/cpu_allocator_impl.cc:83] Allocation of 491520000 exceeds 10% of free system memory.\n"
     ]
    },
    {
     "name": "stdout",
     "output_type": "stream",
     "text": [
      "1250/1250 [==============================] - 15s 8ms/step - loss: 2.0343 - accuracy: 0.2606 - val_loss: 1.8635 - val_accuracy: 0.3141\n",
      "Epoch 2/100\n",
      "1250/1250 [==============================] - 10s 8ms/step - loss: 1.8302 - accuracy: 0.3378 - val_loss: 1.8885 - val_accuracy: 0.3085\n",
      "Epoch 3/100\n",
      "1250/1250 [==============================] - 10s 8ms/step - loss: 1.7714 - accuracy: 0.3577 - val_loss: 1.7297 - val_accuracy: 0.3763\n",
      "Epoch 4/100\n",
      "1250/1250 [==============================] - 10s 8ms/step - loss: 1.7264 - accuracy: 0.3765 - val_loss: 1.7733 - val_accuracy: 0.3762\n",
      "Epoch 5/100\n",
      "1250/1250 [==============================] - 10s 8ms/step - loss: 1.6850 - accuracy: 0.3937 - val_loss: 1.7050 - val_accuracy: 0.3912\n",
      "Epoch 6/100\n",
      "1250/1250 [==============================] - 10s 8ms/step - loss: 1.6547 - accuracy: 0.4060 - val_loss: 1.7336 - val_accuracy: 0.3836\n",
      "Epoch 7/100\n",
      "1250/1250 [==============================] - 10s 8ms/step - loss: 1.6330 - accuracy: 0.4149 - val_loss: 1.6209 - val_accuracy: 0.4201\n",
      "Epoch 8/100\n",
      "1250/1250 [==============================] - 10s 8ms/step - loss: 1.6093 - accuracy: 0.4239 - val_loss: 1.6581 - val_accuracy: 0.4081\n",
      "Epoch 9/100\n",
      "1250/1250 [==============================] - 10s 8ms/step - loss: 1.5912 - accuracy: 0.4333 - val_loss: 1.6299 - val_accuracy: 0.4271\n",
      "Epoch 10/100\n",
      "1250/1250 [==============================] - 10s 8ms/step - loss: 1.5729 - accuracy: 0.4367 - val_loss: 1.5868 - val_accuracy: 0.4398\n",
      "Epoch 11/100\n",
      "1250/1250 [==============================] - 10s 8ms/step - loss: 1.5607 - accuracy: 0.4445 - val_loss: 1.6521 - val_accuracy: 0.4027\n",
      "Epoch 12/100\n",
      "1250/1250 [==============================] - 11s 9ms/step - loss: 1.5413 - accuracy: 0.4491 - val_loss: 1.6240 - val_accuracy: 0.4403\n",
      "Epoch 13/100\n",
      "1250/1250 [==============================] - 10s 8ms/step - loss: 1.5286 - accuracy: 0.4579 - val_loss: 1.5694 - val_accuracy: 0.4457\n",
      "Epoch 14/100\n",
      "1250/1250 [==============================] - 10s 8ms/step - loss: 1.6537 - accuracy: 0.4049 - val_loss: 1.6948 - val_accuracy: 0.3985\n",
      "Epoch 15/100\n",
      "1250/1250 [==============================] - 10s 8ms/step - loss: 1.5825 - accuracy: 0.4386 - val_loss: 1.6327 - val_accuracy: 0.4192\n",
      "Epoch 16/100\n",
      "1250/1250 [==============================] - 10s 8ms/step - loss: 2.5830 - accuracy: 0.2424 - val_loss: 1.8991 - val_accuracy: 0.2746\n",
      "Epoch 17/100\n",
      "1250/1250 [==============================] - 10s 8ms/step - loss: 1.8399 - accuracy: 0.2976 - val_loss: 1.8233 - val_accuracy: 0.3009\n",
      "Epoch 18/100\n",
      "1250/1250 [==============================] - 10s 8ms/step - loss: 1.7948 - accuracy: 0.3117 - val_loss: 1.7775 - val_accuracy: 0.3302\n"
     ]
    }
   ],
   "source": [
    "treinamento = modelo.fit(train_images, train_labels, epochs=100, validation_split=0.2, callbacks=[early_stopping])"
   ]
  },
  {
   "cell_type": "code",
   "execution_count": 18,
   "metadata": {},
   "outputs": [
    {
     "name": "stdout",
     "output_type": "stream",
     "text": [
      "313/313 - 1s - loss: 1.5395 - accuracy: 0.4566 - 1s/epoch - 3ms/step\n",
      "\n",
      "Resultado do Teste: 0.4566\n"
     ]
    }
   ],
   "source": [
    "test_loss, test_acc = modelo.evaluate(test_images, test_labels, verbose=2)\n",
    "print(f'\\nResultado do Teste: {test_acc:.4f}')"
   ]
  },
  {
   "cell_type": "markdown",
   "metadata": {},
   "source": [
    "Acurácia de 45.6% e mais ou menos 3 minutos de treinamento."
   ]
  },
  {
   "cell_type": "code",
   "execution_count": 20,
   "metadata": {},
   "outputs": [
    {
     "data": {
      "image/png": "[encoded data removed]",
      "text/plain": [
       "<Figure size 576x360 with 1 Axes>"
      ]
     },
     "metadata": {
      "needs_background": "light"
     },
     "output_type": "display_data"
    }
   ],
   "source": [
    "import pandas as pd\n",
    "\n",
    "pd.DataFrame(treinamento.history).plot(figsize = (8, 5))\n",
    "plt.grid(True)\n",
    "plt.gca().set_ylim(0, 3) # Restringindo o Eixo y\n",
    "plt.show()"
   ]
  },
  {
   "cell_type": "markdown",
   "metadata": {},
   "source": [
    "#### 2.1 Batch Normalization (Letra C)"
   ]
  },
  {
   "cell_type": "code",
   "execution_count": 22,
   "metadata": {},
   "outputs": [
    {
     "name": "stdout",
     "output_type": "stream",
     "text": [
      "Epoch 1/100\n"
     ]
    },
    {
     "name": "stderr",
     "output_type": "stream",
     "text": [
      "2023-12-05 15:20:13.418431: W tensorflow/tsl/framework/cpu_allocator_impl.cc:83] Allocation of 491520000 exceeds 10% of free system memory.\n"
     ]
    },
    {
     "name": "stdout",
     "output_type": "stream",
     "text": [
      "1250/1250 [==============================] - 28s 14ms/step - loss: 1.8618 - accuracy: 0.3334 - val_loss: 1.8546 - val_accuracy: 0.3196\n",
      "Epoch 2/100\n",
      "1250/1250 [==============================] - 16s 13ms/step - loss: 1.7030 - accuracy: 0.3946 - val_loss: 1.7881 - val_accuracy: 0.3787\n",
      "Epoch 3/100\n",
      "1250/1250 [==============================] - 16s 13ms/step - loss: 1.6346 - accuracy: 0.4187 - val_loss: 1.8311 - val_accuracy: 0.3396\n",
      "Epoch 4/100\n",
      "1250/1250 [==============================] - 16s 13ms/step - loss: 1.5800 - accuracy: 0.4374 - val_loss: 1.7582 - val_accuracy: 0.3942\n",
      "Epoch 5/100\n",
      "1250/1250 [==============================] - 16s 13ms/step - loss: 1.5396 - accuracy: 0.4504 - val_loss: 1.6005 - val_accuracy: 0.4234\n",
      "Epoch 6/100\n",
      "1250/1250 [==============================] - 17s 13ms/step - loss: 1.4999 - accuracy: 0.4689 - val_loss: 1.7291 - val_accuracy: 0.3991\n",
      "Epoch 7/100\n",
      "1250/1250 [==============================] - 16s 13ms/step - loss: 1.4624 - accuracy: 0.4806 - val_loss: 1.6172 - val_accuracy: 0.4429\n",
      "Epoch 8/100\n",
      "1250/1250 [==============================] - 16s 13ms/step - loss: 1.4334 - accuracy: 0.4933 - val_loss: 1.5281 - val_accuracy: 0.4525\n",
      "Epoch 9/100\n",
      "1250/1250 [==============================] - 16s 13ms/step - loss: 1.4041 - accuracy: 0.5040 - val_loss: 1.5347 - val_accuracy: 0.4672\n",
      "Epoch 10/100\n",
      "1250/1250 [==============================] - 16s 13ms/step - loss: 1.3764 - accuracy: 0.5145 - val_loss: 1.5459 - val_accuracy: 0.4576\n",
      "Epoch 11/100\n",
      "1250/1250 [==============================] - 16s 13ms/step - loss: 1.3509 - accuracy: 0.5223 - val_loss: 1.5227 - val_accuracy: 0.4688\n",
      "Epoch 12/100\n",
      "1250/1250 [==============================] - 16s 13ms/step - loss: 1.3246 - accuracy: 0.5336 - val_loss: 1.5086 - val_accuracy: 0.4689\n",
      "Epoch 13/100\n",
      "1250/1250 [==============================] - 16s 13ms/step - loss: 1.3100 - accuracy: 0.5369 - val_loss: 1.5342 - val_accuracy: 0.4669\n",
      "Epoch 14/100\n",
      "1250/1250 [==============================] - 16s 13ms/step - loss: 1.2727 - accuracy: 0.5524 - val_loss: 1.4971 - val_accuracy: 0.4820\n",
      "Epoch 15/100\n",
      "1250/1250 [==============================] - 16s 13ms/step - loss: 1.2639 - accuracy: 0.5561 - val_loss: 1.5357 - val_accuracy: 0.4724\n",
      "Epoch 16/100\n",
      "1250/1250 [==============================] - 16s 13ms/step - loss: 1.2369 - accuracy: 0.5658 - val_loss: 1.5101 - val_accuracy: 0.4872\n",
      "Epoch 17/100\n",
      "1250/1250 [==============================] - 16s 13ms/step - loss: 1.2184 - accuracy: 0.5716 - val_loss: 1.4729 - val_accuracy: 0.4826\n",
      "Epoch 18/100\n",
      "1250/1250 [==============================] - 16s 13ms/step - loss: 1.2053 - accuracy: 0.5763 - val_loss: 1.4720 - val_accuracy: 0.4983\n",
      "Epoch 19/100\n",
      "1250/1250 [==============================] - 16s 13ms/step - loss: 1.1838 - accuracy: 0.5830 - val_loss: 1.4301 - val_accuracy: 0.5039\n",
      "Epoch 20/100\n",
      "1250/1250 [==============================] - 16s 13ms/step - loss: 1.1696 - accuracy: 0.5874 - val_loss: 1.5674 - val_accuracy: 0.4654\n",
      "Epoch 21/100\n",
      "1250/1250 [==============================] - 16s 13ms/step - loss: 1.1530 - accuracy: 0.5937 - val_loss: 1.4469 - val_accuracy: 0.4881\n",
      "Epoch 22/100\n",
      "1250/1250 [==============================] - 16s 13ms/step - loss: 1.1362 - accuracy: 0.6007 - val_loss: 1.5693 - val_accuracy: 0.4546\n",
      "Epoch 23/100\n",
      "1250/1250 [==============================] - 16s 13ms/step - loss: 1.1237 - accuracy: 0.6059 - val_loss: 1.6310 - val_accuracy: 0.4515\n",
      "Epoch 24/100\n",
      "1250/1250 [==============================] - 16s 13ms/step - loss: 1.1066 - accuracy: 0.6125 - val_loss: 1.7007 - val_accuracy: 0.4518\n"
     ]
    }
   ],
   "source": [
    "modelo = keras.Sequential()\n",
    "modelo.add(keras.layers.Flatten(input_shape = (32, 32, 3)))\n",
    "\n",
    "for _ in range(20):\n",
    "    modelo.add(keras.layers.Dense(100, kernel_initializer=\"he_normal\"))\n",
    "    modelo.add(keras.layers.BatchNormalization())\n",
    "    modelo.add(keras.layers.Activation(\"elu\"))\n",
    "\n",
    "modelo.add(keras.layers.Dense(10, activation=\"softmax\"))\n",
    "\n",
    "modelo.compile(optimizer='nadam', loss='sparse_categorical_crossentropy', metrics=['accuracy'])\n",
    "\n",
    "treinamento = modelo.fit(train_images, train_labels, epochs=100, validation_split=0.2, callbacks=[early_stopping])"
   ]
  },
  {
   "cell_type": "markdown",
   "metadata": {},
   "source": [
    "O uso da `BatchNormalization` levou a uma convergência bem mais rápida, de fato. No primeiro modelo, foram necessárias 6 épocas para chega aos 40% de acurácia, e, neste, a 3ª época já estava a frente disso.\n",
    "\n",
    "Fora isso, a redemelhorou em muito a performance. É incrível como a convergência foi bem mais suave e direcionada, com cada camada evoluindo em performance em relação a anterior.\n",
    "\n",
    "Em contrapartida, é claro, o treinamento demorou bem mais, cerca de 6 Minutos e 40 Segundos."
   ]
  },
  {
   "cell_type": "code",
   "execution_count": 23,
   "metadata": {},
   "outputs": [
    {
     "name": "stdout",
     "output_type": "stream",
     "text": [
      "313/313 - 1s - loss: 1.4150 - accuracy: 0.5035 - 1s/epoch - 4ms/step\n",
      "\n",
      "Resultado do Teste: 0.5035\n"
     ]
    }
   ],
   "source": [
    "test_loss, test_acc = modelo.evaluate(test_images, test_labels, verbose=2)\n",
    "print(f'\\nResultado do Teste: {test_acc:.4f}')"
   ]
  },
  {
   "cell_type": "markdown",
   "metadata": {},
   "source": [
    "A queda de perda já até passa a ser algo mais parecido com uma curva, ainda que a validação não siga da mesma forma."
   ]
  },
  {
   "cell_type": "code",
   "execution_count": 24,
   "metadata": {},
   "outputs": [
    {
     "data": {
      "image/png": "[encoded data removed]",
      "text/plain": [
       "<Figure size 576x360 with 1 Axes>"
      ]
     },
     "metadata": {
      "needs_background": "light"
     },
     "output_type": "display_data"
    }
   ],
   "source": [
    "pd.DataFrame(treinamento.history).plot(figsize = (8, 5))\n",
    "plt.grid(True)\n",
    "plt.gca().set_ylim(0, 2) # Restringindo o Eixo y\n",
    "plt.show()"
   ]
  },
  {
   "cell_type": "markdown",
   "metadata": {},
   "source": [
    "Daqui em diante, otimizar a taxa de aprendizado deve resultar em uma performance melhor do modelo. Eu vou focar somente nos exercícios, entretanto, devido ao longo tempo de treinamento para testar isso."
   ]
  },
  {
   "cell_type": "markdown",
   "metadata": {},
   "source": [
    "#### 2.2 Testando SELU (Letra D)"
   ]
  },
  {
   "cell_type": "code",
   "execution_count": 25,
   "metadata": {},
   "outputs": [
    {
     "name": "stdout",
     "output_type": "stream",
     "text": [
      "Epoch 1/100\n"
     ]
    },
    {
     "name": "stderr",
     "output_type": "stream",
     "text": [
      "2023-12-05 15:31:20.549817: W tensorflow/tsl/framework/cpu_allocator_impl.cc:83] Allocation of 491520000 exceeds 10% of free system memory.\n"
     ]
    },
    {
     "name": "stdout",
     "output_type": "stream",
     "text": [
      "1250/1250 [==============================] - 15s 8ms/step - loss: 2.0667 - accuracy: 0.2185 - val_loss: 1.9850 - val_accuracy: 0.2680\n",
      "Epoch 2/100\n",
      "1250/1250 [==============================] - 10s 8ms/step - loss: 1.9368 - accuracy: 0.2708 - val_loss: 1.9641 - val_accuracy: 0.2697\n",
      "Epoch 3/100\n",
      "1250/1250 [==============================] - 10s 8ms/step - loss: 1.8766 - accuracy: 0.3090 - val_loss: 1.8663 - val_accuracy: 0.3258\n",
      "Epoch 4/100\n",
      "1250/1250 [==============================] - 9s 8ms/step - loss: 1.8432 - accuracy: 0.3205 - val_loss: 1.8253 - val_accuracy: 0.3419\n",
      "Epoch 5/100\n",
      "1250/1250 [==============================] - 9s 8ms/step - loss: 1.8201 - accuracy: 0.3326 - val_loss: 2.1159 - val_accuracy: 0.2089\n",
      "Epoch 6/100\n",
      "1250/1250 [==============================] - 10s 8ms/step - loss: 1.8870 - accuracy: 0.3078 - val_loss: 1.8560 - val_accuracy: 0.3227\n",
      "Epoch 7/100\n",
      "1250/1250 [==============================] - 10s 8ms/step - loss: 1.8194 - accuracy: 0.3461 - val_loss: 1.8396 - val_accuracy: 0.3517\n",
      "Epoch 8/100\n",
      "1250/1250 [==============================] - 9s 8ms/step - loss: 1.7917 - accuracy: 0.3472 - val_loss: 1.7786 - val_accuracy: 0.3463\n",
      "Epoch 9/100\n",
      "1250/1250 [==============================] - 10s 8ms/step - loss: 1.7496 - accuracy: 0.3630 - val_loss: 1.7763 - val_accuracy: 0.3409\n",
      "Epoch 10/100\n",
      "1250/1250 [==============================] - 9s 8ms/step - loss: 1.7370 - accuracy: 0.3685 - val_loss: 1.7309 - val_accuracy: 0.3800\n",
      "Epoch 11/100\n",
      "1250/1250 [==============================] - 10s 8ms/step - loss: 1.8592 - accuracy: 0.3327 - val_loss: 1.9058 - val_accuracy: 0.2951\n",
      "Epoch 12/100\n",
      "1250/1250 [==============================] - 10s 8ms/step - loss: 1.7815 - accuracy: 0.3454 - val_loss: 1.7957 - val_accuracy: 0.3553\n",
      "Epoch 13/100\n",
      "1250/1250 [==============================] - 10s 8ms/step - loss: 1.7371 - accuracy: 0.3648 - val_loss: 1.7134 - val_accuracy: 0.3731\n",
      "Epoch 14/100\n",
      "1250/1250 [==============================] - 10s 8ms/step - loss: 2.3055 - accuracy: 0.2549 - val_loss: 1.9486 - val_accuracy: 0.2564\n",
      "Epoch 15/100\n",
      "1250/1250 [==============================] - 10s 8ms/step - loss: 1.8607 - accuracy: 0.3065 - val_loss: 1.7958 - val_accuracy: 0.3401\n",
      "Epoch 16/100\n",
      "1250/1250 [==============================] - 10s 8ms/step - loss: 1.7534 - accuracy: 0.3542 - val_loss: 1.7478 - val_accuracy: 0.3496\n",
      "Epoch 17/100\n",
      "1250/1250 [==============================] - 10s 8ms/step - loss: 1.7079 - accuracy: 0.3717 - val_loss: 1.7385 - val_accuracy: 0.3623\n",
      "Epoch 18/100\n",
      "1250/1250 [==============================] - 10s 8ms/step - loss: 1.6836 - accuracy: 0.3828 - val_loss: 1.7204 - val_accuracy: 0.3625\n"
     ]
    }
   ],
   "source": [
    "modelo = keras.Sequential()\n",
    "modelo.add(keras.layers.Flatten(input_shape = (32, 32, 3)))\n",
    "\n",
    "for _ in range(20):\n",
    "    modelo.add(keras.layers.Dense(100, activation=\"selu\", kernel_initializer=\"lecun_normal\"))\n",
    "\n",
    "modelo.add(keras.layers.Dense(10, activation=\"softmax\"))\n",
    "\n",
    "modelo.compile(optimizer='nadam', loss='sparse_categorical_crossentropy', metrics=['accuracy'])\n",
    "\n",
    "treinamento = modelo.fit(train_images, train_labels, epochs=100, validation_split=0.2, callbacks=[early_stopping])"
   ]
  },
  {
   "cell_type": "markdown",
   "metadata": {},
   "source": [
    "Apesar de não ter uma performance melhor, o uso da SeLU diminuiu, LEVEMENTE, o cálculo de cada época se comparado com a original. Mesmo assim, não estou convencido por essa abordagem. O uso de uma LeakyReLU também deveria reduzir a velocidade, e com BatchNormalization o resultado deve ser melhor, não?"
   ]
  },
  {
   "cell_type": "code",
   "execution_count": 26,
   "metadata": {},
   "outputs": [
    {
     "name": "stdout",
     "output_type": "stream",
     "text": [
      "313/313 - 1s - loss: 1.6836 - accuracy: 0.3846 - 1s/epoch - 4ms/step\n",
      "\n",
      "Resultado do Teste: 0.3846\n"
     ]
    }
   ],
   "source": [
    "test_loss, test_acc = modelo.evaluate(test_images, test_labels, verbose=2)\n",
    "print(f'\\nResultado do Teste: {test_acc:.4f}')"
   ]
  },
  {
   "cell_type": "code",
   "execution_count": 27,
   "metadata": {},
   "outputs": [
    {
     "name": "stdout",
     "output_type": "stream",
     "text": [
      "Epoch 1/100\n",
      "1250/1250 [==============================] - 28s 13ms/step - loss: 2.1366 - accuracy: 0.2073 - val_loss: 1.9860 - val_accuracy: 0.2738\n",
      "Epoch 2/100\n",
      "1250/1250 [==============================] - 15s 12ms/step - loss: 1.9231 - accuracy: 0.2964 - val_loss: 1.9223 - val_accuracy: 0.3062\n",
      "Epoch 3/100\n",
      "1250/1250 [==============================] - 15s 12ms/step - loss: 1.8432 - accuracy: 0.3326 - val_loss: 1.9532 - val_accuracy: 0.2982\n",
      "Epoch 4/100\n",
      "1250/1250 [==============================] - 16s 12ms/step - loss: 1.7744 - accuracy: 0.3618 - val_loss: 1.8351 - val_accuracy: 0.3361\n",
      "Epoch 5/100\n",
      "1250/1250 [==============================] - 16s 13ms/step - loss: 1.7249 - accuracy: 0.3826 - val_loss: 1.9341 - val_accuracy: 0.3180\n",
      "Epoch 6/100\n",
      "1250/1250 [==============================] - 16s 12ms/step - loss: 1.6834 - accuracy: 0.3992 - val_loss: 1.7310 - val_accuracy: 0.3867\n",
      "Epoch 7/100\n",
      "1250/1250 [==============================] - 15s 12ms/step - loss: 1.6391 - accuracy: 0.4172 - val_loss: 1.9236 - val_accuracy: 0.3468\n",
      "Epoch 8/100\n",
      "1250/1250 [==============================] - 16s 13ms/step - loss: 1.6023 - accuracy: 0.4342 - val_loss: 1.6457 - val_accuracy: 0.4257\n",
      "Epoch 9/100\n",
      "1250/1250 [==============================] - 16s 12ms/step - loss: 1.5647 - accuracy: 0.4455 - val_loss: 1.7048 - val_accuracy: 0.4097\n",
      "Epoch 10/100\n",
      "1250/1250 [==============================] - 15s 12ms/step - loss: 1.5260 - accuracy: 0.4641 - val_loss: 1.6672 - val_accuracy: 0.4070\n",
      "Epoch 11/100\n",
      "1250/1250 [==============================] - 16s 13ms/step - loss: 1.4936 - accuracy: 0.4749 - val_loss: 1.6603 - val_accuracy: 0.4324\n",
      "Epoch 12/100\n",
      "1250/1250 [==============================] - 16s 12ms/step - loss: 1.4606 - accuracy: 0.4832 - val_loss: 1.6642 - val_accuracy: 0.4281\n",
      "Epoch 13/100\n",
      "1250/1250 [==============================] - 16s 12ms/step - loss: 1.4300 - accuracy: 0.4938 - val_loss: 1.8998 - val_accuracy: 0.4001\n"
     ]
    }
   ],
   "source": [
    "modelo = keras.Sequential()\n",
    "modelo.add(keras.layers.Flatten(input_shape = (32, 32, 3)))\n",
    "\n",
    "for _ in range(20):\n",
    "    modelo.add(keras.layers.Dense(100, kernel_initializer=\"he_normal\"))\n",
    "    modelo.add(keras.layers.BatchNormalization())\n",
    "    modelo.add(keras.layers.LeakyReLU(alpha=0.01))\n",
    "\n",
    "modelo.add(keras.layers.Dense(10, activation=\"softmax\"))\n",
    "\n",
    "modelo.compile(optimizer='nadam', loss='sparse_categorical_crossentropy', metrics=['accuracy'])\n",
    "\n",
    "treinamento = modelo.fit(train_images, train_labels, epochs=100, validation_split=0.2, callbacks=[early_stopping])"
   ]
  },
  {
   "cell_type": "markdown",
   "metadata": {},
   "source": [
    "Como dito, a leakyReLU também reduziu, brevemente, o período de treinamento com BatchNormalization, com algumas camadas indo de 16 pra 15 segundos."
   ]
  },
  {
   "cell_type": "code",
   "execution_count": 28,
   "metadata": {},
   "outputs": [
    {
     "name": "stdout",
     "output_type": "stream",
     "text": [
      "313/313 - 1s - loss: 1.6244 - accuracy: 0.4228 - 1s/epoch - 4ms/step\n",
      "\n",
      "Resultado do Teste: 0.4228\n"
     ]
    }
   ],
   "source": [
    "test_loss, test_acc = modelo.evaluate(test_images, test_labels, verbose=2)\n",
    "print(f'\\nResultado do Teste: {test_acc:.4f}')"
   ]
  },
  {
   "cell_type": "markdown",
   "metadata": {},
   "source": [
    "#### 2.3 Usando Alpha Dropout (Letra E)"
   ]
  },
  {
   "cell_type": "code",
   "execution_count": 30,
   "metadata": {},
   "outputs": [
    {
     "name": "stdout",
     "output_type": "stream",
     "text": [
      "Epoch 1/100\n",
      "1250/1250 [==============================] - 15s 8ms/step - loss: 2.1566 - accuracy: 0.1695 - val_loss: 2.1380 - val_accuracy: 0.2024\n",
      "Epoch 2/100\n",
      "1250/1250 [==============================] - 10s 8ms/step - loss: 2.0566 - accuracy: 0.1996 - val_loss: 2.1434 - val_accuracy: 0.1782\n",
      "Epoch 3/100\n",
      "1250/1250 [==============================] - 10s 8ms/step - loss: 2.0350 - accuracy: 0.2157 - val_loss: 2.0337 - val_accuracy: 0.2244\n",
      "Epoch 4/100\n",
      "1250/1250 [==============================] - 10s 8ms/step - loss: 2.0284 - accuracy: 0.2089 - val_loss: 2.2154 - val_accuracy: 0.1825\n",
      "Epoch 5/100\n",
      "1250/1250 [==============================] - 10s 8ms/step - loss: 1.9854 - accuracy: 0.2288 - val_loss: 2.0110 - val_accuracy: 0.2530\n",
      "Epoch 6/100\n",
      "1250/1250 [==============================] - 10s 8ms/step - loss: 1.9696 - accuracy: 0.2404 - val_loss: 1.9878 - val_accuracy: 0.2595\n",
      "Epoch 7/100\n",
      "1250/1250 [==============================] - 10s 8ms/step - loss: 1.9988 - accuracy: 0.2280 - val_loss: 1.9583 - val_accuracy: 0.2453\n",
      "Epoch 8/100\n",
      "1250/1250 [==============================] - 10s 8ms/step - loss: 2.0020 - accuracy: 0.2361 - val_loss: 2.1028 - val_accuracy: 0.1978\n",
      "Epoch 9/100\n",
      "1250/1250 [==============================] - 10s 8ms/step - loss: 1.9542 - accuracy: 0.2408 - val_loss: 1.8789 - val_accuracy: 0.2629\n",
      "Epoch 10/100\n",
      "1250/1250 [==============================] - 10s 8ms/step - loss: 1.8823 - accuracy: 0.2700 - val_loss: 1.9350 - val_accuracy: 0.2711\n",
      "Epoch 11/100\n",
      "1250/1250 [==============================] - 10s 8ms/step - loss: 1.8636 - accuracy: 0.2815 - val_loss: 1.9558 - val_accuracy: 0.2741\n",
      "Epoch 12/100\n",
      "1250/1250 [==============================] - 10s 8ms/step - loss: 1.8450 - accuracy: 0.2858 - val_loss: 1.9263 - val_accuracy: 0.2728\n",
      "Epoch 13/100\n",
      "1250/1250 [==============================] - 10s 8ms/step - loss: 1.8308 - accuracy: 0.2941 - val_loss: 1.9067 - val_accuracy: 0.2891\n",
      "Epoch 14/100\n",
      "1250/1250 [==============================] - 10s 8ms/step - loss: 1.8154 - accuracy: 0.3035 - val_loss: 1.9083 - val_accuracy: 0.3024\n"
     ]
    }
   ],
   "source": [
    "modelo = keras.Sequential()\n",
    "modelo.add(keras.layers.Flatten(input_shape = (32, 32, 3)))\n",
    "\n",
    "for _ in range(20):\n",
    "    modelo.add(keras.layers.Dense(100, activation=\"selu\", kernel_initializer=\"lecun_normal\"))\n",
    "\n",
    "modelo.add(keras.layers.AlphaDropout(rate = 0.2))\n",
    "modelo.add(keras.layers.Dense(10, activation=\"softmax\"))\n",
    "\n",
    "modelo.compile(optimizer='nadam', loss='sparse_categorical_crossentropy', metrics=['accuracy'])\n",
    "\n",
    "treinamento = modelo.fit(train_images, train_labels, epochs=100, validation_split=0.2, callbacks=[early_stopping])"
   ]
  },
  {
   "cell_type": "code",
   "execution_count": 31,
   "metadata": {},
   "outputs": [
    {
     "name": "stdout",
     "output_type": "stream",
     "text": [
      "313/313 - 1s - loss: 1.8610 - accuracy: 0.2687 - 1s/epoch - 3ms/step\n",
      "\n",
      "Resultado do Teste: 0.2687\n"
     ]
    }
   ],
   "source": [
    "test_loss, test_acc = modelo.evaluate(test_images, test_labels, verbose=2)\n",
    "print(f'\\nResultado do Teste: {test_acc:.4f}')"
   ]
  },
  {
   "cell_type": "markdown",
   "metadata": {},
   "source": [
    "O uso da regularização, aqui, comprometeu o desempenho do modelo."
   ]
  },
  {
   "cell_type": "markdown",
   "metadata": {},
   "source": [
    "#### 2.4 Usando 1Cycle (Letra F)"
   ]
  },
  {
   "cell_type": "code",
   "execution_count": 35,
   "metadata": {},
   "outputs": [],
   "source": [
    "import math\n",
    "\n",
    "K = keras.backend\n",
    "\n",
    "class ExponentialLearningRate(keras.callbacks.Callback):\n",
    "    def __init__(self, factor):\n",
    "        self.factor = factor\n",
    "        self.rates = []\n",
    "        self.losses = []\n",
    "    def on_epoch_begin(self, epoch, logs=None):\n",
    "        self.prev_loss = 0\n",
    "    def on_batch_end(self, batch, logs=None):\n",
    "        batch_loss = logs[\"loss\"] * (batch + 1) - self.prev_loss * batch\n",
    "        self.prev_loss = logs[\"loss\"]\n",
    "        self.rates.append(K.get_value(self.model.optimizer.learning_rate))\n",
    "        self.losses.append(batch_loss)\n",
    "        K.set_value(self.model.optimizer.learning_rate, self.model.optimizer.learning_rate * self.factor)\n",
    "\n",
    "# Copiando a função do livro.\n",
    "def find_learning_rate(model, X, y, epochs=1, batch_size=32, min_rate=10**-5, max_rate=10):\n",
    "    init_weights = model.get_weights()\n",
    "    iterations = math.ceil(len(X) / batch_size) * epochs\n",
    "    factor = np.exp(np.log(max_rate / min_rate) / iterations)\n",
    "    init_lr = K.get_value(model.optimizer.learning_rate)\n",
    "    K.set_value(model.optimizer.learning_rate, min_rate)\n",
    "    exp_lr = ExponentialLearningRate(factor)\n",
    "    history = model.fit(X, y, epochs=epochs, batch_size=batch_size,\n",
    "                        callbacks=[exp_lr])\n",
    "    K.set_value(model.optimizer.learning_rate, init_lr)\n",
    "    model.set_weights(init_weights)\n",
    "    return exp_lr.rates, exp_lr.losses\n",
    "\n",
    "def plot_lr_vs_loss(rates, losses):\n",
    "    plt.plot(rates, losses)\n",
    "    plt.gca().set_xscale('log')\n",
    "    plt.hlines(min(losses), min(rates), max(rates))\n",
    "    plt.axis([min(rates), max(rates), min(losses), (losses[0] + min(losses)) / 2])\n",
    "    plt.xlabel(\"Learning rate\")\n",
    "    plt.ylabel(\"Loss\")"
   ]
  },
  {
   "cell_type": "code",
   "execution_count": 36,
   "metadata": {},
   "outputs": [],
   "source": [
    "modelo = keras.Sequential()\n",
    "modelo.add(keras.layers.Flatten(input_shape = (32, 32, 3)))\n",
    "\n",
    "for _ in range(20):\n",
    "    modelo.add(keras.layers.Dense(100, kernel_initializer=\"he_normal\"))\n",
    "    modelo.add(keras.layers.BatchNormalization())\n",
    "    modelo.add(keras.layers.Activation(\"elu\"))\n",
    "\n",
    "modelo.add(keras.layers.Dense(10, activation=\"softmax\"))\n",
    "\n",
    "modelo.compile(optimizer='nadam', loss='sparse_categorical_crossentropy', metrics=['accuracy'])"
   ]
  },
  {
   "cell_type": "code",
   "execution_count": 37,
   "metadata": {},
   "outputs": [
    {
     "name": "stdout",
     "output_type": "stream",
     "text": [
      "391/391 [==============================] - 21s 21ms/step - loss: 73.1650 - accuracy: 0.2163\n"
     ]
    },
    {
     "data": {
      "text/plain": [
       "(9.999999747378752e-06,\n",
       " 9.652833938598633,\n",
       " 1.7038233280181885,\n",
       " 3.283860002245222)"
      ]
     },
     "execution_count": 37,
     "metadata": {},
     "output_type": "execute_result"
    },
    {
     "data": {
      "image/png": "[encoded data removed]",
      "text/plain": [
       "<Figure size 432x288 with 1 Axes>"
      ]
     },
     "metadata": {
      "needs_background": "light"
     },
     "output_type": "display_data"
    }
   ],
   "source": [
    "# Usando o código do livro.\n",
    "rates, losses = find_learning_rate(modelo, train_images, train_labels, epochs=1, batch_size=128)\n",
    "plot_lr_vs_loss(rates, losses)\n",
    "plt.axis([min(rates), max(rates), min(losses), (losses[0] + min(losses)) / 1.4])"
   ]
  },
  {
   "cell_type": "markdown",
   "metadata": {},
   "source": [
    "Os melhores resultados aparentam ter sido entre 1e-3 e 1e-2."
   ]
  },
  {
   "cell_type": "code",
   "execution_count": 38,
   "metadata": {},
   "outputs": [
    {
     "name": "stdout",
     "output_type": "stream",
     "text": [
      "Epoch 1/100\n",
      "1250/1250 [==============================] - 28s 14ms/step - loss: 1.9367 - accuracy: 0.2938 - val_loss: 2.1378 - val_accuracy: 0.2984\n",
      "Epoch 2/100\n",
      "1250/1250 [==============================] - 16s 13ms/step - loss: 1.7722 - accuracy: 0.3622 - val_loss: 1.8145 - val_accuracy: 0.3513\n",
      "Epoch 3/100\n",
      "1250/1250 [==============================] - 16s 13ms/step - loss: 1.6858 - accuracy: 0.3953 - val_loss: 1.7742 - val_accuracy: 0.3687\n",
      "Epoch 4/100\n",
      "1250/1250 [==============================] - 16s 13ms/step - loss: 1.6223 - accuracy: 0.4191 - val_loss: 2.0390 - val_accuracy: 0.3513\n",
      "Epoch 5/100\n",
      "1250/1250 [==============================] - 16s 13ms/step - loss: 1.5784 - accuracy: 0.4368 - val_loss: 1.9294 - val_accuracy: 0.3849\n",
      "Epoch 6/100\n",
      "1250/1250 [==============================] - 16s 13ms/step - loss: 1.5344 - accuracy: 0.4542 - val_loss: 1.8870 - val_accuracy: 0.3898\n",
      "Epoch 7/100\n",
      "1250/1250 [==============================] - 17s 13ms/step - loss: 1.4906 - accuracy: 0.4685 - val_loss: 1.8106 - val_accuracy: 0.3455\n",
      "Epoch 8/100\n",
      "1250/1250 [==============================] - 16s 13ms/step - loss: 1.4599 - accuracy: 0.4802 - val_loss: 1.5957 - val_accuracy: 0.4479\n",
      "Epoch 9/100\n",
      "1250/1250 [==============================] - 16s 13ms/step - loss: 1.4278 - accuracy: 0.4949 - val_loss: 1.6548 - val_accuracy: 0.4168\n",
      "Epoch 10/100\n",
      "1250/1250 [==============================] - 16s 13ms/step - loss: 1.3973 - accuracy: 0.5044 - val_loss: 1.5772 - val_accuracy: 0.4408\n",
      "Epoch 11/100\n",
      "1250/1250 [==============================] - 16s 13ms/step - loss: 1.3605 - accuracy: 0.5170 - val_loss: 1.5691 - val_accuracy: 0.4399\n",
      "Epoch 12/100\n",
      "1250/1250 [==============================] - 17s 13ms/step - loss: 1.3357 - accuracy: 0.5268 - val_loss: 1.7921 - val_accuracy: 0.4145\n",
      "Epoch 13/100\n",
      "1250/1250 [==============================] - 16s 13ms/step - loss: 1.3142 - accuracy: 0.5343 - val_loss: 1.7223 - val_accuracy: 0.4292\n",
      "Epoch 14/100\n",
      "1250/1250 [==============================] - 16s 13ms/step - loss: 1.2767 - accuracy: 0.5444 - val_loss: 1.9576 - val_accuracy: 0.3869\n",
      "Epoch 15/100\n",
      "1250/1250 [==============================] - 16s 13ms/step - loss: 1.2639 - accuracy: 0.5537 - val_loss: 1.6489 - val_accuracy: 0.4566\n",
      "Epoch 16/100\n",
      "1250/1250 [==============================] - 17s 13ms/step - loss: 1.2408 - accuracy: 0.5609 - val_loss: 1.5301 - val_accuracy: 0.4722\n",
      "Epoch 17/100\n",
      "1250/1250 [==============================] - 16s 13ms/step - loss: 1.2164 - accuracy: 0.5693 - val_loss: 1.5504 - val_accuracy: 0.4777\n",
      "Epoch 18/100\n",
      "1250/1250 [==============================] - 16s 13ms/step - loss: 1.2009 - accuracy: 0.5778 - val_loss: 1.6269 - val_accuracy: 0.4533\n",
      "Epoch 19/100\n",
      "1250/1250 [==============================] - 16s 13ms/step - loss: 1.1779 - accuracy: 0.5834 - val_loss: 1.6154 - val_accuracy: 0.4578\n",
      "Epoch 20/100\n",
      "1250/1250 [==============================] - 16s 13ms/step - loss: 1.1590 - accuracy: 0.5897 - val_loss: 1.6527 - val_accuracy: 0.4463\n",
      "Epoch 21/100\n",
      "1250/1250 [==============================] - 17s 13ms/step - loss: 1.1489 - accuracy: 0.5933 - val_loss: 1.6839 - val_accuracy: 0.4284\n"
     ]
    }
   ],
   "source": [
    "modelo = keras.Sequential()\n",
    "modelo.add(keras.layers.Flatten(input_shape = (32, 32, 3)))\n",
    "\n",
    "for _ in range(20):\n",
    "    modelo.add(keras.layers.Dense(100, kernel_initializer=\"he_normal\"))\n",
    "    modelo.add(keras.layers.BatchNormalization())\n",
    "    modelo.add(keras.layers.Activation(\"elu\"))\n",
    "\n",
    "modelo.add(keras.layers.Dense(10, activation=\"softmax\"))\n",
    "\n",
    "modelo.compile(optimizer=keras.optimizers.Nadam(learning_rate = 5e-3), \n",
    "               loss='sparse_categorical_crossentropy', metrics=['accuracy'])\n",
    "\n",
    "treinamento = modelo.fit(train_images, train_labels, epochs=100, validation_split=0.2, callbacks=[early_stopping])"
   ]
  },
  {
   "cell_type": "code",
   "execution_count": 39,
   "metadata": {},
   "outputs": [
    {
     "name": "stdout",
     "output_type": "stream",
     "text": [
      "313/313 - 1s - loss: 1.5349 - accuracy: 0.4688 - 1s/epoch - 4ms/step\n",
      "\n",
      "Resultado do Teste: 0.4688\n"
     ]
    }
   ],
   "source": [
    "test_loss, test_acc = modelo.evaluate(test_images, test_labels, verbose=2)\n",
    "print(f'\\nResultado do Teste: {test_acc:.4f}')"
   ]
  },
  {
   "cell_type": "markdown",
   "metadata": {},
   "source": [
    "O resultado não foi melhor que o modelo original (com taxa de aprendizado padrão), mas, em teoria, eu teria, agora, um conjunto de taxas para verificar. Nesse ambiente, entretanto, não vou tentar otimizar isso."
   ]
  }
 ],
 "metadata": {
  "kernelspec": {
   "display_name": "Python 3",
   "language": "python",
   "name": "python3"
  },
  "language_info": {
   "codemirror_mode": {
    "name": "ipython",
    "version": 3
   },
   "file_extension": ".py",
   "mimetype": "text/x-python",
   "name": "python",
   "nbconvert_exporter": "python",
   "pygments_lexer": "ipython3",
   "version": "3.8.10"
  }
 },
 "nbformat": 4,
 "nbformat_minor": 2
}
