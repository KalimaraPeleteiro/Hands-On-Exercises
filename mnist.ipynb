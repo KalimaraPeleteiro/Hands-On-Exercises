{
 "cells": [
  {
   "cell_type": "code",
   "execution_count": 15,
   "metadata": {},
   "outputs": [],
   "source": [
    "from tensorflow import keras\n",
    "import matplotlib.pyplot as plt"
   ]
  },
  {
   "cell_type": "markdown",
   "metadata": {},
   "source": [
    "### 1. Buscando o Dataset"
   ]
  },
  {
   "cell_type": "code",
   "execution_count": 16,
   "metadata": {},
   "outputs": [],
   "source": [
    "mnist = keras.datasets.mnist"
   ]
  },
  {
   "cell_type": "code",
   "execution_count": 17,
   "metadata": {},
   "outputs": [],
   "source": [
    "(train_images, train_labels), (test_images, test_labels) = mnist.load_data()"
   ]
  },
  {
   "cell_type": "markdown",
   "metadata": {},
   "source": [
    "Normalizando os dados"
   ]
  },
  {
   "cell_type": "code",
   "execution_count": 18,
   "metadata": {},
   "outputs": [],
   "source": [
    "train_images = train_images / 255.0\n",
    "test_images = test_images / 255.0"
   ]
  },
  {
   "cell_type": "markdown",
   "metadata": {},
   "source": [
    "Corrigindo canais de cores"
   ]
  },
  {
   "cell_type": "code",
   "execution_count": 19,
   "metadata": {},
   "outputs": [],
   "source": [
    "train_images = train_images.reshape(train_images.shape[0], 28, 28, 1)\n",
    "test_images = test_images.reshape(test_images.shape[0], 28, 28, 1)"
   ]
  },
  {
   "cell_type": "markdown",
   "metadata": {},
   "source": [
    "### 2. Modelo"
   ]
  },
  {
   "cell_type": "code",
   "execution_count": 20,
   "metadata": {},
   "outputs": [],
   "source": [
    "modelo = keras.Sequential([\n",
    "    keras.layers.Flatten(input_shape = (28, 28)), # Decompondo as Imagens\n",
    "    keras.layers.Dense(128, activation = \"relu\"),\n",
    "    keras.layers.Dense(64, activation = \"relu\"),\n",
    "    keras.layers.Dense(32, activation = \"relu\"),\n",
    "    keras.layers.Dense(10, activation = \"softmax\") # Camada de saída\n",
    "])"
   ]
  },
  {
   "cell_type": "code",
   "execution_count": 21,
   "metadata": {},
   "outputs": [],
   "source": [
    "early_stopping = keras.callbacks.EarlyStopping(monitor='val_loss', patience=10, restore_best_weights=True)"
   ]
  },
  {
   "cell_type": "code",
   "execution_count": 22,
   "metadata": {},
   "outputs": [],
   "source": [
    "modelo.compile(optimizer='nadam', loss='sparse_categorical_crossentropy', metrics=['accuracy'])"
   ]
  },
  {
   "cell_type": "markdown",
   "metadata": {},
   "source": [
    "#### 2.1 Treinamento"
   ]
  },
  {
   "cell_type": "code",
   "execution_count": 23,
   "metadata": {},
   "outputs": [],
   "source": [
    "import numpy as np\n",
    "\n",
    "np.random.seed(30912)"
   ]
  },
  {
   "cell_type": "code",
   "execution_count": 24,
   "metadata": {},
   "outputs": [
    {
     "name": "stdout",
     "output_type": "stream",
     "text": [
      "Epoch 1/100\n",
      "1500/1500 [==============================] - 5s 3ms/step - loss: 0.2768 - accuracy: 0.9187 - val_loss: 0.1388 - val_accuracy: 0.9566\n",
      "Epoch 2/100\n",
      "1500/1500 [==============================] - 4s 3ms/step - loss: 0.1152 - accuracy: 0.9654 - val_loss: 0.1095 - val_accuracy: 0.9685\n",
      "Epoch 3/100\n",
      "1500/1500 [==============================] - 4s 3ms/step - loss: 0.0793 - accuracy: 0.9753 - val_loss: 0.1003 - val_accuracy: 0.9697\n",
      "Epoch 4/100\n",
      "1500/1500 [==============================] - 4s 3ms/step - loss: 0.0603 - accuracy: 0.9814 - val_loss: 0.0996 - val_accuracy: 0.9712\n",
      "Epoch 5/100\n",
      "1500/1500 [==============================] - 4s 3ms/step - loss: 0.0467 - accuracy: 0.9848 - val_loss: 0.1138 - val_accuracy: 0.9693\n",
      "Epoch 6/100\n",
      "1500/1500 [==============================] - 4s 3ms/step - loss: 0.0403 - accuracy: 0.9864 - val_loss: 0.1023 - val_accuracy: 0.9732\n",
      "Epoch 7/100\n",
      "1500/1500 [==============================] - 4s 3ms/step - loss: 0.0345 - accuracy: 0.9881 - val_loss: 0.1252 - val_accuracy: 0.9694\n",
      "Epoch 8/100\n",
      "1500/1500 [==============================] - 4s 3ms/step - loss: 0.0287 - accuracy: 0.9903 - val_loss: 0.1101 - val_accuracy: 0.9741\n",
      "Epoch 9/100\n",
      "1500/1500 [==============================] - 4s 3ms/step - loss: 0.0254 - accuracy: 0.9915 - val_loss: 0.1330 - val_accuracy: 0.9702\n",
      "Epoch 10/100\n",
      "1500/1500 [==============================] - 4s 3ms/step - loss: 0.0252 - accuracy: 0.9918 - val_loss: 0.1112 - val_accuracy: 0.9745\n",
      "Epoch 11/100\n",
      "1500/1500 [==============================] - 4s 3ms/step - loss: 0.0196 - accuracy: 0.9933 - val_loss: 0.1479 - val_accuracy: 0.9707\n",
      "Epoch 12/100\n",
      "1500/1500 [==============================] - 4s 3ms/step - loss: 0.0199 - accuracy: 0.9932 - val_loss: 0.1534 - val_accuracy: 0.9687\n",
      "Epoch 13/100\n",
      "1500/1500 [==============================] - 4s 3ms/step - loss: 0.0204 - accuracy: 0.9932 - val_loss: 0.1267 - val_accuracy: 0.9745\n",
      "Epoch 14/100\n",
      "1500/1500 [==============================] - 4s 3ms/step - loss: 0.0157 - accuracy: 0.9945 - val_loss: 0.1258 - val_accuracy: 0.9745\n"
     ]
    }
   ],
   "source": [
    "treinamento = modelo.fit(train_images, train_labels, epochs=100, validation_split=0.2, callbacks=[early_stopping])"
   ]
  },
  {
   "cell_type": "code",
   "execution_count": 25,
   "metadata": {},
   "outputs": [
    {
     "data": {
      "image/png": "[encoded data removed]",
      "text/plain": [
       "<Figure size 576x360 with 1 Axes>"
      ]
     },
     "metadata": {
      "needs_background": "light"
     },
     "output_type": "display_data"
    }
   ],
   "source": [
    "import pandas as pd\n",
    "\n",
    "pd.DataFrame(treinamento.history).plot(figsize = (8, 5))\n",
    "plt.grid(True)\n",
    "plt.gca().set_ylim(0, 1) # Restringindo o Eixo y\n",
    "plt.show()"
   ]
  },
  {
   "cell_type": "markdown",
   "metadata": {},
   "source": [
    "Teste Inicial"
   ]
  },
  {
   "cell_type": "code",
   "execution_count": 26,
   "metadata": {},
   "outputs": [
    {
     "name": "stdout",
     "output_type": "stream",
     "text": [
      "313/313 - 0s - loss: 0.0953 - accuracy: 0.9741 - 456ms/epoch - 1ms/step\n",
      "\n",
      "Resultado do Teste: 0.9741\n"
     ]
    }
   ],
   "source": [
    "test_loss, test_acc = modelo.evaluate(test_images, test_labels, verbose=2)\n",
    "print(f'\\nResultado do Teste: {test_acc:.4f}')"
   ]
  },
  {
   "cell_type": "markdown",
   "metadata": {},
   "source": [
    "O objetivo é 98%. Vamos modificar a rede."
   ]
  },
  {
   "cell_type": "markdown",
   "metadata": {},
   "source": [
    "#### 2.2 Otimizando a Rede"
   ]
  },
  {
   "cell_type": "code",
   "execution_count": 32,
   "metadata": {},
   "outputs": [],
   "source": [
    "from keras_tuner.tuners import RandomSearch\n",
    "\n",
    "def construir_modelo(hp):\n",
    "    modelo = keras.Sequential()\n",
    "    modelo.add(keras.layers.Flatten(input_shape = (28, 28)))\n",
    "    \n",
    "    unidades = hp.Int('Tamanho da Camada', min_value=32, max_value=512, step=32)\n",
    "    ativacao = hp.Choice('Função de Ativação', values=[\"relu\", \"elu\"])\n",
    "\n",
    "    modelo.add(keras.layers.Dense(units=unidades, activation=ativacao))\n",
    "    modelo.add(keras.layers.Dense(units=unidades, activation=ativacao))\n",
    "    modelo.add(keras.layers.Dense(units=unidades, activation=ativacao))\n",
    "    modelo.add(keras.layers.Dense(10, activation='softmax'))\n",
    "\n",
    "    # Tune a taxa de aprendizado\n",
    "    \n",
    "    modelo.compile(optimizer=\"nadam\",\n",
    "                   loss='sparse_categorical_crossentropy',\n",
    "                   metrics=['accuracy'])\n",
    "    \n",
    "    return modelo"
   ]
  },
  {
   "cell_type": "markdown",
   "metadata": {},
   "source": [
    "Reduzindo a paciência"
   ]
  },
  {
   "cell_type": "code",
   "execution_count": 33,
   "metadata": {},
   "outputs": [],
   "source": [
    "early_stopping = keras.callbacks.EarlyStopping(monitor='val_loss', patience=5, restore_best_weights=True)"
   ]
  },
  {
   "cell_type": "code",
   "execution_count": 35,
   "metadata": {},
   "outputs": [
    {
     "name": "stdout",
     "output_type": "stream",
     "text": [
      "Trial 10 Complete [00h 01m 09s]\n",
      "val_accuracy: 0.9746666550636292\n",
      "\n",
      "Best val_accuracy So Far: 0.9782500267028809\n",
      "Total elapsed time: 00h 12m 23s\n"
     ]
    }
   ],
   "source": [
    "tuner = RandomSearch(\n",
    "    construir_modelo,\n",
    "    objective='val_accuracy',\n",
    "    max_trials=10\n",
    ")\n",
    "\n",
    "tuner.search(train_images, train_labels, epochs=100, validation_split=0.2, callbacks=[early_stopping])"
   ]
  },
  {
   "cell_type": "code",
   "execution_count": 39,
   "metadata": {},
   "outputs": [
    {
     "name": "stdout",
     "output_type": "stream",
     "text": [
      "512\n",
      "relu\n"
     ]
    }
   ],
   "source": [
    "parametros = tuner.get_best_hyperparameters()[0]\n",
    "print(parametros.get('Tamanho da Camada'))\n",
    "print(parametros.get('Função de Ativação'))"
   ]
  },
  {
   "cell_type": "code",
   "execution_count": 27,
   "metadata": {},
   "outputs": [],
   "source": [
    "modelo = keras.Sequential()\n",
    "modelo.add(keras.layers.Flatten(input_shape = (28, 28)))\n",
    "modelo.add(keras.layers.Dense(512, activation=\"relu\"))\n",
    "modelo.add(keras.layers.Dense(512, activation=\"relu\"))\n",
    "modelo.add(keras.layers.Dense(512, activation=\"relu\"))\n",
    "modelo.add(keras.layers.Dense(10, activation='softmax'))\n"
   ]
  },
  {
   "cell_type": "code",
   "execution_count": 28,
   "metadata": {},
   "outputs": [],
   "source": [
    "modelo.compile(optimizer='nadam', loss='sparse_categorical_crossentropy', metrics=['accuracy'])"
   ]
  },
  {
   "cell_type": "code",
   "execution_count": 29,
   "metadata": {},
   "outputs": [
    {
     "name": "stdout",
     "output_type": "stream",
     "text": [
      "Epoch 1/100\n",
      "1500/1500 [==============================] - 13s 8ms/step - loss: 0.2072 - accuracy: 0.9367 - val_loss: 0.1133 - val_accuracy: 0.9662\n",
      "Epoch 2/100\n",
      "1500/1500 [==============================] - 11s 8ms/step - loss: 0.0961 - accuracy: 0.9708 - val_loss: 0.1057 - val_accuracy: 0.9700\n",
      "Epoch 3/100\n",
      "1500/1500 [==============================] - 12s 8ms/step - loss: 0.0682 - accuracy: 0.9794 - val_loss: 0.1055 - val_accuracy: 0.9698\n",
      "Epoch 4/100\n",
      "1500/1500 [==============================] - 13s 8ms/step - loss: 0.0535 - accuracy: 0.9837 - val_loss: 0.1088 - val_accuracy: 0.9722\n",
      "Epoch 5/100\n",
      "1500/1500 [==============================] - 13s 8ms/step - loss: 0.0457 - accuracy: 0.9855 - val_loss: 0.0932 - val_accuracy: 0.9745\n",
      "Epoch 6/100\n",
      "1500/1500 [==============================] - 12s 8ms/step - loss: 0.0375 - accuracy: 0.9889 - val_loss: 0.0893 - val_accuracy: 0.9768\n",
      "Epoch 7/100\n",
      "1500/1500 [==============================] - 13s 8ms/step - loss: 0.0336 - accuracy: 0.9903 - val_loss: 0.1209 - val_accuracy: 0.9721\n",
      "Epoch 8/100\n",
      "1500/1500 [==============================] - 12s 8ms/step - loss: 0.0315 - accuracy: 0.9902 - val_loss: 0.0994 - val_accuracy: 0.9771\n",
      "Epoch 9/100\n",
      "1500/1500 [==============================] - 12s 8ms/step - loss: 0.0267 - accuracy: 0.9918 - val_loss: 0.1306 - val_accuracy: 0.9751\n",
      "Epoch 10/100\n",
      "1500/1500 [==============================] - 12s 8ms/step - loss: 0.0266 - accuracy: 0.9925 - val_loss: 0.1525 - val_accuracy: 0.9707\n",
      "Epoch 11/100\n",
      "1500/1500 [==============================] - 12s 8ms/step - loss: 0.0245 - accuracy: 0.9931 - val_loss: 0.1050 - val_accuracy: 0.9781\n",
      "Epoch 12/100\n",
      "1500/1500 [==============================] - 12s 8ms/step - loss: 0.0211 - accuracy: 0.9944 - val_loss: 0.1576 - val_accuracy: 0.9757\n",
      "Epoch 13/100\n",
      "1500/1500 [==============================] - 12s 8ms/step - loss: 0.0224 - accuracy: 0.9940 - val_loss: 0.1454 - val_accuracy: 0.9745\n",
      "Epoch 14/100\n",
      "1500/1500 [==============================] - 12s 8ms/step - loss: 0.0184 - accuracy: 0.9950 - val_loss: 0.1487 - val_accuracy: 0.9768\n",
      "Epoch 15/100\n",
      "1500/1500 [==============================] - 12s 8ms/step - loss: 0.0205 - accuracy: 0.9942 - val_loss: 0.1688 - val_accuracy: 0.9758\n",
      "Epoch 16/100\n",
      "1500/1500 [==============================] - 12s 8ms/step - loss: 0.0180 - accuracy: 0.9955 - val_loss: 0.1166 - val_accuracy: 0.9787\n"
     ]
    }
   ],
   "source": [
    "treinamento = modelo.fit(train_images, train_labels, epochs=100, validation_split=0.2, callbacks=[early_stopping])"
   ]
  },
  {
   "cell_type": "code",
   "execution_count": 30,
   "metadata": {},
   "outputs": [
    {
     "name": "stdout",
     "output_type": "stream",
     "text": [
      "313/313 - 1s - loss: 0.0846 - accuracy: 0.9788 - 906ms/epoch - 3ms/step\n",
      "\n",
      "Resultado do Teste: 0.9788\n"
     ]
    }
   ],
   "source": [
    "test_loss, test_acc = modelo.evaluate(test_images, test_labels, verbose=2)\n",
    "print(f'\\nResultado do Teste: {test_acc:.4f}')"
   ]
  },
  {
   "cell_type": "markdown",
   "metadata": {},
   "source": [
    "Testando outro otimizador"
   ]
  },
  {
   "cell_type": "code",
   "execution_count": 31,
   "metadata": {},
   "outputs": [
    {
     "name": "stdout",
     "output_type": "stream",
     "text": [
      "Epoch 1/100\n",
      "1500/1500 [==============================] - 10s 6ms/step - loss: 0.2255 - accuracy: 0.9329 - val_loss: 0.1916 - val_accuracy: 0.9454\n",
      "Epoch 2/100\n",
      "1500/1500 [==============================] - 9s 6ms/step - loss: 0.1005 - accuracy: 0.9728 - val_loss: 0.1386 - val_accuracy: 0.9602\n",
      "Epoch 3/100\n",
      "1500/1500 [==============================] - 9s 6ms/step - loss: 0.0770 - accuracy: 0.9790 - val_loss: 0.1295 - val_accuracy: 0.9722\n",
      "Epoch 4/100\n",
      "1500/1500 [==============================] - 9s 6ms/step - loss: 0.0662 - accuracy: 0.9833 - val_loss: 0.1251 - val_accuracy: 0.9748\n",
      "Epoch 5/100\n",
      "1500/1500 [==============================] - 9s 6ms/step - loss: 0.0499 - accuracy: 0.9869 - val_loss: 0.1205 - val_accuracy: 0.9778\n",
      "Epoch 6/100\n",
      "1500/1500 [==============================] - 9s 6ms/step - loss: 0.0440 - accuracy: 0.9887 - val_loss: 0.1377 - val_accuracy: 0.9761\n",
      "Epoch 7/100\n",
      "1500/1500 [==============================] - 9s 6ms/step - loss: 0.0376 - accuracy: 0.9908 - val_loss: 0.1447 - val_accuracy: 0.9772\n",
      "Epoch 8/100\n",
      "1500/1500 [==============================] - 9s 6ms/step - loss: 0.0308 - accuracy: 0.9922 - val_loss: 0.1718 - val_accuracy: 0.9787\n",
      "Epoch 9/100\n",
      "1500/1500 [==============================] - 9s 6ms/step - loss: 0.0272 - accuracy: 0.9937 - val_loss: 0.1508 - val_accuracy: 0.9772\n",
      "Epoch 10/100\n",
      "1500/1500 [==============================] - 9s 6ms/step - loss: 0.0215 - accuracy: 0.9947 - val_loss: 0.1744 - val_accuracy: 0.9785\n",
      "Epoch 11/100\n",
      "1500/1500 [==============================] - 9s 6ms/step - loss: 0.0181 - accuracy: 0.9956 - val_loss: 0.2075 - val_accuracy: 0.9765\n",
      "Epoch 12/100\n",
      "1500/1500 [==============================] - 9s 6ms/step - loss: 0.0179 - accuracy: 0.9959 - val_loss: 0.2016 - val_accuracy: 0.9778\n",
      "Epoch 13/100\n",
      "1500/1500 [==============================] - 9s 6ms/step - loss: 0.0161 - accuracy: 0.9964 - val_loss: 0.2239 - val_accuracy: 0.9767\n",
      "Epoch 14/100\n",
      "1500/1500 [==============================] - 9s 6ms/step - loss: 0.0121 - accuracy: 0.9972 - val_loss: 0.1970 - val_accuracy: 0.9793\n",
      "Epoch 15/100\n",
      "1500/1500 [==============================] - 9s 6ms/step - loss: 0.0146 - accuracy: 0.9968 - val_loss: 0.2390 - val_accuracy: 0.9768\n"
     ]
    }
   ],
   "source": [
    "modelo = keras.Sequential()\n",
    "modelo.add(keras.layers.Flatten(input_shape = (28, 28)))\n",
    "modelo.add(keras.layers.Dense(512, activation=\"relu\"))\n",
    "modelo.add(keras.layers.Dense(512, activation=\"relu\"))\n",
    "modelo.add(keras.layers.Dense(512, activation=\"relu\"))\n",
    "modelo.add(keras.layers.Dense(10, activation='softmax'))\n",
    "\n",
    "modelo.compile(optimizer='rmsprop', loss='sparse_categorical_crossentropy', metrics=['accuracy'])\n",
    "\n",
    "treinamento = modelo.fit(train_images, train_labels, epochs=100, validation_split=0.2, callbacks=[early_stopping])"
   ]
  },
  {
   "cell_type": "code",
   "execution_count": 32,
   "metadata": {},
   "outputs": [
    {
     "name": "stdout",
     "output_type": "stream",
     "text": [
      "313/313 - 1s - loss: 0.1130 - accuracy: 0.9772 - 854ms/epoch - 3ms/step\n",
      "\n",
      "Resultado do Teste: 0.9772\n"
     ]
    }
   ],
   "source": [
    "test_loss, test_acc = modelo.evaluate(test_images, test_labels, verbose=2)\n",
    "print(f'\\nResultado do Teste: {test_acc:.4f}')"
   ]
  },
  {
   "cell_type": "code",
   "execution_count": 35,
   "metadata": {},
   "outputs": [
    {
     "name": "stdout",
     "output_type": "stream",
     "text": [
      "Epoch 1/100\n",
      "1500/1500 [==============================] - 8s 5ms/step - loss: 0.2892 - accuracy: 0.9122 - val_loss: 0.1160 - val_accuracy: 0.9641\n",
      "Epoch 2/100\n",
      "1500/1500 [==============================] - 7s 5ms/step - loss: 0.1061 - accuracy: 0.9668 - val_loss: 0.1171 - val_accuracy: 0.9648\n",
      "Epoch 3/100\n",
      "1500/1500 [==============================] - 7s 5ms/step - loss: 0.0701 - accuracy: 0.9778 - val_loss: 0.0966 - val_accuracy: 0.9741\n",
      "Epoch 4/100\n",
      "1500/1500 [==============================] - 8s 5ms/step - loss: 0.0505 - accuracy: 0.9841 - val_loss: 0.0920 - val_accuracy: 0.9742\n",
      "Epoch 5/100\n",
      "1500/1500 [==============================] - 7s 5ms/step - loss: 0.0388 - accuracy: 0.9880 - val_loss: 0.0928 - val_accuracy: 0.9758\n",
      "Epoch 6/100\n",
      "1500/1500 [==============================] - 7s 5ms/step - loss: 0.0312 - accuracy: 0.9900 - val_loss: 0.0871 - val_accuracy: 0.9778\n",
      "Epoch 7/100\n",
      "1500/1500 [==============================] - 7s 5ms/step - loss: 0.0233 - accuracy: 0.9928 - val_loss: 0.0847 - val_accuracy: 0.9784\n",
      "Epoch 8/100\n",
      "1500/1500 [==============================] - 7s 5ms/step - loss: 0.0222 - accuracy: 0.9934 - val_loss: 0.0944 - val_accuracy: 0.9757\n",
      "Epoch 9/100\n",
      "1500/1500 [==============================] - 7s 5ms/step - loss: 0.0134 - accuracy: 0.9955 - val_loss: 0.1364 - val_accuracy: 0.9733\n",
      "Epoch 10/100\n",
      "1500/1500 [==============================] - 7s 5ms/step - loss: 0.0178 - accuracy: 0.9946 - val_loss: 0.0981 - val_accuracy: 0.9782\n",
      "Epoch 11/100\n",
      "1500/1500 [==============================] - 7s 5ms/step - loss: 0.0133 - accuracy: 0.9960 - val_loss: 0.0871 - val_accuracy: 0.9805\n",
      "Epoch 12/100\n",
      "1500/1500 [==============================] - 7s 5ms/step - loss: 0.0070 - accuracy: 0.9978 - val_loss: 0.1065 - val_accuracy: 0.9792\n",
      "Epoch 13/100\n",
      "1500/1500 [==============================] - 7s 5ms/step - loss: 0.0109 - accuracy: 0.9966 - val_loss: 0.0984 - val_accuracy: 0.9804\n",
      "Epoch 14/100\n",
      "1500/1500 [==============================] - 7s 5ms/step - loss: 0.0111 - accuracy: 0.9967 - val_loss: 0.1013 - val_accuracy: 0.9805\n",
      "Epoch 15/100\n",
      "1500/1500 [==============================] - 7s 5ms/step - loss: 0.0056 - accuracy: 0.9982 - val_loss: 0.1149 - val_accuracy: 0.9787\n",
      "Epoch 16/100\n",
      "1500/1500 [==============================] - 8s 5ms/step - loss: 0.0083 - accuracy: 0.9977 - val_loss: 0.1110 - val_accuracy: 0.9785\n",
      "Epoch 17/100\n",
      "1500/1500 [==============================] - 8s 5ms/step - loss: 0.0055 - accuracy: 0.9981 - val_loss: 0.1012 - val_accuracy: 0.9813\n"
     ]
    }
   ],
   "source": [
    "modelo = keras.Sequential()\n",
    "modelo.add(keras.layers.Flatten(input_shape = (28, 28)))\n",
    "modelo.add(keras.layers.Dense(512, activation=\"relu\"))\n",
    "modelo.add(keras.layers.Dense(512, activation=\"relu\"))\n",
    "modelo.add(keras.layers.Dense(512, activation=\"relu\"))\n",
    "modelo.add(keras.layers.Dense(10, activation='softmax'))\n",
    "\n",
    "modelo.compile(optimizer=keras.optimizers.SGD(learning_rate = 0.3), loss='sparse_categorical_crossentropy', metrics=['accuracy'])\n",
    "\n",
    "treinamento = modelo.fit(train_images, train_labels, epochs=100, validation_split=0.2, callbacks=[early_stopping])"
   ]
  },
  {
   "cell_type": "code",
   "execution_count": 36,
   "metadata": {},
   "outputs": [
    {
     "name": "stdout",
     "output_type": "stream",
     "text": [
      "313/313 - 1s - loss: 0.0782 - accuracy: 0.9800 - 878ms/epoch - 3ms/step\n",
      "\n",
      "Resultado do Teste: 0.9800\n"
     ]
    }
   ],
   "source": [
    "test_loss, test_acc = modelo.evaluate(test_images, test_labels, verbose=2)\n",
    "print(f'\\nResultado do Teste: {test_acc:.4f}')"
   ]
  },
  {
   "cell_type": "code",
   "execution_count": null,
   "metadata": {},
   "outputs": [],
   "source": []
  }
 ],
 "metadata": {
  "kernelspec": {
   "display_name": "Python 3",
   "language": "python",
   "name": "python3"
  },
  "language_info": {
   "codemirror_mode": {
    "name": "ipython",
    "version": 3
   },
   "file_extension": ".py",
   "mimetype": "text/x-python",
   "name": "python",
   "nbconvert_exporter": "python",
   "pygments_lexer": "ipython3",
   "version": "3.8.10"
  }
 },
 "nbformat": 4,
 "nbformat_minor": 2
}
